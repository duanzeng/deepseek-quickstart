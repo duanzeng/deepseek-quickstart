{
 "cells": [
  {
   "cell_type": "code",
   "execution_count": 34,
   "id": "a2d6da2b-325b-41fb-8809-8f73752439ca",
   "metadata": {},
   "outputs": [],
   "source": [
    "import os\n",
    "\n",
    "# 从环境变量获取 DeepSeek API Key\n",
    "api_key = os.getenv(\"DEEPSEEK_API_KEY\")"
   ]
  },
  {
   "cell_type": "code",
   "execution_count": 37,
   "id": "f4e72b58-3f5d-46cb-bfd7-db7892f564dd",
   "metadata": {},
   "outputs": [],
   "source": [
    "from glob import glob\n",
    "\n",
    "text_lines = []\n",
    "\n",
    "for file_path in glob(\"mfd.md\", recursive=True):\n",
    "    with open(file_path, \"r\") as file:\n",
    "        file_text = file.read()\n",
    "\n",
    "    line = file_text.split(\" \")\n",
    "    text_lines += line"
   ]
  },
  {
   "cell_type": "code",
   "execution_count": 38,
   "id": "3a2ba134-0d94-4d93-8d41-07433f84e265",
   "metadata": {},
   "outputs": [
    {
     "data": {
      "text/plain": [
       "441"
      ]
     },
     "execution_count": 38,
     "metadata": {},
     "output_type": "execute_result"
    }
   ],
   "source": [
    "len(text_lines)"
   ]
  },
  {
   "cell_type": "code",
   "execution_count": 4,
   "id": "e6da1c08-a0b0-4f8c-ba06-3e394aa2d194",
   "metadata": {},
   "outputs": [],
   "source": [
    "from openai import OpenAI\n",
    "\n",
    "deepseek_client = OpenAI(\n",
    "    api_key=api_key,\n",
    "    base_url=\"https://api.deepseek.com/v1\",  # DeepSeek API 的基地址\n",
    ")"
   ]
  },
  {
   "cell_type": "code",
   "execution_count": 5,
   "id": "b1491957-fa1a-45f8-a1f2-0ee0e201980c",
   "metadata": {},
   "outputs": [
    {
     "name": "stderr",
     "output_type": "stream",
     "text": [
      "/opt/conda/lib/python3.13/site-packages/tqdm/auto.py:21: TqdmWarning: IProgress not found. Please update jupyter and ipywidgets. See https://ipywidgets.readthedocs.io/en/stable/user_install.html\n",
      "  from .autonotebook import tqdm as notebook_tqdm\n"
     ]
    }
   ],
   "source": [
    "from pymilvus import model as milvus_model\n",
    "\n",
    "embedding_model = milvus_model.DefaultEmbeddingFunction()"
   ]
  },
  {
   "cell_type": "code",
   "execution_count": 6,
   "id": "96baf2e1-9885-46ee-84ea-be80255c4879",
   "metadata": {},
   "outputs": [],
   "source": [
    "from pymilvus import MilvusClient\n",
    "\n",
    "milvus_client = MilvusClient(uri=\"./milvus_mfd.db\")\n",
    "\n",
    "collection_name = \"mfd_rag_collection\""
   ]
  },
  {
   "cell_type": "code",
   "execution_count": 7,
   "id": "9c79b080-d851-4424-b33d-a799539d95ae",
   "metadata": {},
   "outputs": [],
   "source": [
    "if milvus_client.has_collection(collection_name):\n",
    "    milvus_client.drop_collection(collection_name)"
   ]
  },
  {
   "cell_type": "code",
   "execution_count": 8,
   "id": "8b97140b-b009-49e5-bfdf-6e0960ae7a32",
   "metadata": {},
   "outputs": [
    {
     "name": "stdout",
     "output_type": "stream",
     "text": [
      "768\n",
      "[-0.00993222  0.04682298 -0.03675228 -0.08068266 -0.02617284  0.0037349\n",
      "  0.00990155 -0.08762875 -0.01553682  0.05377049]\n"
     ]
    }
   ],
   "source": [
    "test_embedding = embedding_model.encode_queries([\"第四百零七条\"])[0]\n",
    "embedding_dim = len(test_embedding)\n",
    "print(embedding_dim)\n",
    "print(test_embedding[:10])"
   ]
  },
  {
   "cell_type": "code",
   "execution_count": 9,
   "id": "6a66ae39-a831-4148-97e9-b1f423f6b374",
   "metadata": {},
   "outputs": [],
   "source": [
    "milvus_client.create_collection(\n",
    "    collection_name=collection_name,\n",
    "    dimension=embedding_dim,\n",
    "    metric_type=\"IP\",  # 内积距离\n",
    "    consistency_level=\"Strong\",  # 支持的值为 (`\"Strong\"`, `\"Session\"`, `\"Bounded\"`, `\"Eventually\"`)。更多详情请参见 https://milvus.io/docs/consistency.md#Consistency-Level。\n",
    ")"
   ]
  },
  {
   "cell_type": "code",
   "execution_count": 10,
   "id": "e468631c-dba4-493d-a30e-2ac2799ad26b",
   "metadata": {},
   "outputs": [
    {
     "name": "stderr",
     "output_type": "stream",
     "text": [
      "Creating embeddings: 100%|██████████| 441/441 [00:00<00:00, 601916.06it/s]\n"
     ]
    },
    {
     "data": {
      "text/plain": [
       "{'insert_count': 441, 'ids': [0, 1, 2, 3, 4, 5, 6, 7, 8, 9, 10, 11, 12, 13, 14, 15, 16, 17, 18, 19, 20, 21, 22, 23, 24, 25, 26, 27, 28, 29, 30, 31, 32, 33, 34, 35, 36, 37, 38, 39, 40, 41, 42, 43, 44, 45, 46, 47, 48, 49, 50, 51, 52, 53, 54, 55, 56, 57, 58, 59, 60, 61, 62, 63, 64, 65, 66, 67, 68, 69, 70, 71, 72, 73, 74, 75, 76, 77, 78, 79, 80, 81, 82, 83, 84, 85, 86, 87, 88, 89, 90, 91, 92, 93, 94, 95, 96, 97, 98, 99, 100, 101, 102, 103, 104, 105, 106, 107, 108, 109, 110, 111, 112, 113, 114, 115, 116, 117, 118, 119, 120, 121, 122, 123, 124, 125, 126, 127, 128, 129, 130, 131, 132, 133, 134, 135, 136, 137, 138, 139, 140, 141, 142, 143, 144, 145, 146, 147, 148, 149, 150, 151, 152, 153, 154, 155, 156, 157, 158, 159, 160, 161, 162, 163, 164, 165, 166, 167, 168, 169, 170, 171, 172, 173, 174, 175, 176, 177, 178, 179, 180, 181, 182, 183, 184, 185, 186, 187, 188, 189, 190, 191, 192, 193, 194, 195, 196, 197, 198, 199, 200, 201, 202, 203, 204, 205, 206, 207, 208, 209, 210, 211, 212, 213, 214, 215, 216, 217, 218, 219, 220, 221, 222, 223, 224, 225, 226, 227, 228, 229, 230, 231, 232, 233, 234, 235, 236, 237, 238, 239, 240, 241, 242, 243, 244, 245, 246, 247, 248, 249, 250, 251, 252, 253, 254, 255, 256, 257, 258, 259, 260, 261, 262, 263, 264, 265, 266, 267, 268, 269, 270, 271, 272, 273, 274, 275, 276, 277, 278, 279, 280, 281, 282, 283, 284, 285, 286, 287, 288, 289, 290, 291, 292, 293, 294, 295, 296, 297, 298, 299, 300, 301, 302, 303, 304, 305, 306, 307, 308, 309, 310, 311, 312, 313, 314, 315, 316, 317, 318, 319, 320, 321, 322, 323, 324, 325, 326, 327, 328, 329, 330, 331, 332, 333, 334, 335, 336, 337, 338, 339, 340, 341, 342, 343, 344, 345, 346, 347, 348, 349, 350, 351, 352, 353, 354, 355, 356, 357, 358, 359, 360, 361, 362, 363, 364, 365, 366, 367, 368, 369, 370, 371, 372, 373, 374, 375, 376, 377, 378, 379, 380, 381, 382, 383, 384, 385, 386, 387, 388, 389, 390, 391, 392, 393, 394, 395, 396, 397, 398, 399, 400, 401, 402, 403, 404, 405, 406, 407, 408, 409, 410, 411, 412, 413, 414, 415, 416, 417, 418, 419, 420, 421, 422, 423, 424, 425, 426, 427, 428, 429, 430, 431, 432, 433, 434, 435, 436, 437, 438, 439, 440], 'cost': 0}"
      ]
     },
     "execution_count": 10,
     "metadata": {},
     "output_type": "execute_result"
    }
   ],
   "source": [
    "from tqdm import tqdm\n",
    "\n",
    "data = []\n",
    "\n",
    "doc_embeddings = embedding_model.encode_documents(text_lines)\n",
    "\n",
    "for i, line in enumerate(tqdm(text_lines, desc=\"Creating embeddings\")):\n",
    "    data.append({\"id\": i, \"vector\": doc_embeddings[i], \"text\": line})\n",
    "\n",
    "milvus_client.insert(collection_name=collection_name, data=data)"
   ]
  },
  {
   "cell_type": "code",
   "execution_count": 27,
   "id": "0f739f22-92ef-4f3b-b5b2-7432f6424d9a",
   "metadata": {},
   "outputs": [],
   "source": [
    "question = \"国家、集体、私人的物权和其他权利人的物权受法律平等保护，任何组织或者个人不得侵犯是属于那一条的内容?\""
   ]
  },
  {
   "cell_type": "code",
   "execution_count": 28,
   "id": "8a3d9804-fea6-4f30-9289-b01446b895e7",
   "metadata": {},
   "outputs": [],
   "source": [
    "search_res = milvus_client.search(\n",
    "    collection_name=collection_name,\n",
    "    data=embedding_model.encode_queries(\n",
    "        [question]\n",
    "    ),  # 将问题转换为嵌入向量\n",
    "    limit=5,  # 返回前3个结果\n",
    "    search_params={\"metric_type\": \"IP\", \"params\": {}},  # 内积距离\n",
    "    output_fields=[\"text\"],  # 返回 text 字段\n",
    ")"
   ]
  },
  {
   "cell_type": "code",
   "execution_count": 29,
   "id": "c3e322e9-4b1b-44d0-93c8-d10de96b3c10",
   "metadata": {},
   "outputs": [
    {
     "name": "stdout",
     "output_type": "stream",
     "text": [
      "[\n",
      "    [\n",
      "        \"\\u6cd5\\u5f8b\\u53e6\\u6709\\u89c4\\u5b9a\\u7684\\uff0c\\u4f9d\\u7167\\u5176\\u89c4\\u5b9a\\u3002\",\n",
      "        0.906079888343811\n",
      "    ],\n",
      "    [\n",
      "        \"\\u56e0\\u5408\\u6cd5\\u5efa\\u9020\\u3001\\u62c6\\u9664\\u623f\\u5c4b\\u7b49\\u4e8b\\u5b9e\\u884c\\u4e3a\\u8bbe\\u7acb\\u6216\\u8005\\u6d88\\u706d\\u7269\\u6743\\u7684\\uff0c\\u81ea\\u4e8b\\u5b9e\\u884c\\u4e3a\\u5b8c\\u6210\\u65f6\\u53d1\\u751f\\u6548\\u529b\\u3002\\n\\n**\\u7b2c\\u4e8c\\u767e\\u4e09\\u5341\\u4e8c\\u6761**\",\n",
      "        0.809916615486145\n",
      "    ],\n",
      "    [\n",
      "        \"\\u56e0\\u7ee7\\u627f\\u53d6\\u5f97\\u7269\\u6743\\u7684\\uff0c\\u81ea\\u7ee7\\u627f\\u5f00\\u59cb\\u65f6\\u53d1\\u751f\\u6548\\u529b\\u3002\\n\\n**\\u7b2c\\u4e8c\\u767e\\u4e09\\u5341\\u4e00\\u6761**\",\n",
      "        0.809916615486145\n",
      "    ],\n",
      "    [\n",
      "        \"\\u5229\\u5bb3\\u5173\\u7cfb\\u4eba\\u53ef\\u4ee5\\u7533\\u8bf7\\u67e5\\u8be2\\u4e0d\\u52a8\\u4ea7\\u767b\\u8bb0\\u8d44\\u6599\\u3002\\u7533\\u8bf7\\u67e5\\u8be2\\u7684\\uff0c\\u767b\\u8bb0\\u673a\\u6784\\u5e94\\u5f53\\u63d0\\u4f9b\\u3002\\n\\n**\\u7b2c\\u4e8c\\u767e\\u4e8c\\u5341\\u6761**\",\n",
      "        0.809916615486145\n",
      "    ],\n",
      "    [\n",
      "        \"\\u6743\\u5229\\u4eba\\u3001\\u5229\\u5bb3\\u5173\\u7cfb\\u4eba\\u53ef\\u4ee5\\u7533\\u8bf7\\u67e5\\u8be2\\u3001\\u590d\\u5236\\u4e0d\\u52a8\\u4ea7\\u767b\\u8bb0\\u8d44\\u6599\\uff0c\\u767b\\u8bb0\\u673a\\u6784\\u5e94\\u5f53\\u63d0\\u4f9b\\u3002\\n\\n**\\u7b2c\\u4e8c\\u767e\\u4e00\\u5341\\u4e5d\\u6761**\",\n",
      "        0.809916615486145\n",
      "    ]\n",
      "]\n"
     ]
    }
   ],
   "source": [
    "import json\n",
    "\n",
    "retrieved_lines_with_distances = [\n",
    "    (res[\"entity\"][\"text\"], res[\"distance\"]) for res in search_res[0]\n",
    "]\n",
    "print(json.dumps(retrieved_lines_with_distances, indent=4))"
   ]
  },
  {
   "cell_type": "code",
   "execution_count": 30,
   "id": "4bf2bacc-5afa-40b8-a866-8a294789845a",
   "metadata": {},
   "outputs": [],
   "source": [
    "context = \"\\n\".join(\n",
    "    [line_with_distance[0] for line_with_distance in retrieved_lines_with_distances]\n",
    ")"
   ]
  },
  {
   "cell_type": "code",
   "execution_count": 31,
   "id": "c20ff7b4-e666-4350-8c71-3d74f6b412f0",
   "metadata": {},
   "outputs": [
    {
     "data": {
      "text/plain": [
       "'法律另有规定的，依照其规定。\\n因合法建造、拆除房屋等事实行为设立或者消灭物权的，自事实行为完成时发生效力。\\n\\n**第二百三十二条**\\n因继承取得物权的，自继承开始时发生效力。\\n\\n**第二百三十一条**\\n利害关系人可以申请查询不动产登记资料。申请查询的，登记机构应当提供。\\n\\n**第二百二十条**\\n权利人、利害关系人可以申请查询、复制不动产登记资料，登记机构应当提供。\\n\\n**第二百一十九条**'"
      ]
     },
     "execution_count": 31,
     "metadata": {},
     "output_type": "execute_result"
    }
   ],
   "source": [
    "context"
   ]
  },
  {
   "cell_type": "code",
   "execution_count": 32,
   "id": "ecebefad-1d34-478c-a9a2-9e73ba1a48f0",
   "metadata": {},
   "outputs": [],
   "source": [
    "SYSTEM_PROMPT = \"\"\"\n",
    "Human: 你是一个 AI 助手。你能够从提供的上下文段落片段中找到问题的答案。\n",
    "\"\"\"\n",
    "USER_PROMPT = f\"\"\"\n",
    "请使用以下用 <context> 标签括起来的信息片段来回答用 <question> 标签括起来的问题。\n",
    "<context>\n",
    "{context}\n",
    "</context>\n",
    "<question>\n",
    "{question}\n",
    "</question>\n",
    "\"\"\""
   ]
  },
  {
   "cell_type": "code",
   "execution_count": 33,
   "id": "cb7d8886-4e65-4569-91b5-adbce253ffcf",
   "metadata": {},
   "outputs": [
    {
     "data": {
      "text/plain": [
       "'\\n请使用以下用 <context> 标签括起来的信息片段来回答用 <question> 标签括起来的问题。\\n<context>\\n法律另有规定的，依照其规定。\\n因合法建造、拆除房屋等事实行为设立或者消灭物权的，自事实行为完成时发生效力。\\n\\n**第二百三十二条**\\n因继承取得物权的，自继承开始时发生效力。\\n\\n**第二百三十一条**\\n利害关系人可以申请查询不动产登记资料。申请查询的，登记机构应当提供。\\n\\n**第二百二十条**\\n权利人、利害关系人可以申请查询、复制不动产登记资料，登记机构应当提供。\\n\\n**第二百一十九条**\\n</context>\\n<question>\\n国家、集体、私人的物权和其他权利人的物权受法律平等保护，任何组织或者个人不得侵犯是属于那一条的内容?\\n</question>\\n'"
      ]
     },
     "execution_count": 33,
     "metadata": {},
     "output_type": "execute_result"
    }
   ],
   "source": [
    "USER_PROMPT"
   ]
  },
  {
   "cell_type": "code",
   "execution_count": 113,
   "id": "9c382315-cfae-4742-827c-c372a001fd83",
   "metadata": {},
   "outputs": [
    {
     "name": "stdout",
     "output_type": "stream",
     "text": [
      "根据提供的上下文，第二百零四条的内容是：\"用益物权人不得转让、出租、担保其用益物权\"。\n",
      "\n",
      "这个答案是从给定的法律条款片段中直接提取的，这些条款看起来像是中国《民法典》物权编的相关规定。虽然上下文没有明确标注条款编号，但根据问题的询问方式可以推断这是在询问某个特定条款（第二百零四条）的内容。\n"
     ]
    }
   ],
   "source": [
    "response = deepseek_client.chat.completions.create(\n",
    "    model=\"deepseek-chat\",\n",
    "    messages=[\n",
    "        {\"role\": \"system\", \"content\": SYSTEM_PROMPT},\n",
    "        {\"role\": \"user\", \"content\": USER_PROMPT},\n",
    "    ],\n",
    ")\n",
    "print(response.choices[0].message.content)"
   ]
  },
  {
   "cell_type": "code",
   "execution_count": null,
   "id": "f1aa1287-2058-4da0-b8c4-8dfc955c82e8",
   "metadata": {},
   "outputs": [],
   "source": []
  }
 ],
 "metadata": {
  "kernelspec": {
   "display_name": "Python 3 (ipykernel)",
   "language": "python",
   "name": "python3"
  },
  "language_info": {
   "codemirror_mode": {
    "name": "ipython",
    "version": 3
   },
   "file_extension": ".py",
   "mimetype": "text/x-python",
   "name": "python",
   "nbconvert_exporter": "python",
   "pygments_lexer": "ipython3",
   "version": "3.13.5"
  }
 },
 "nbformat": 4,
 "nbformat_minor": 5
}
